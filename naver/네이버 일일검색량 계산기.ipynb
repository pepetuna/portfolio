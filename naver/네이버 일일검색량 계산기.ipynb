{
 "cells": [
  {
   "cell_type": "code",
   "execution_count": 6,
   "id": "7d0c2a45-cb55-41ab-ba1a-9a91552447de",
   "metadata": {},
   "outputs": [],
   "source": [
    "import pandas as pd \n",
    "import collections\n",
    "from datetime import timedelta\n",
    "from dateutil.relativedelta import relativedelta\n",
    "import numpy as np\n",
    "\n",
    "import math\n",
    "from datetime import datetime \n",
    "from datetime import datetime, timedelta\n",
    "\n",
    "\n",
    "from powernad.API.Campaign import *\n",
    "from powernad.API.RelKwdStat import *\n",
    "\n",
    "import time\n",
    "\n",
    "from time import sleep\n",
    "from urllib.error import HTTPError\n",
    "\n",
    "import urllib.request\n",
    "from datetime import datetime, timedelta\n",
    "import json\n",
    "\n",
    "from tqdm.notebook import tqdm"
   ]
  },
  {
   "cell_type": "code",
   "execution_count": 7,
   "id": "0bbabb2c-607b-47ad-956d-d95c7182826d",
   "metadata": {},
   "outputs": [],
   "source": [
    "toda = datetime.now()\n",
    "time_month = toda - relativedelta(months=1)\n",
    "time_month = time_month.strftime('%Y-%m-%d')\n",
    "time_month= str(time_month)\n",
    "\n",
    "\n",
    "yesterday = toda - relativedelta(days=1)\n",
    "yesterday = yesterday.strftime('%Y-%m-%d')\n",
    "yesterday = str(yesterday)\n",
    "\n",
    "\n",
    "\n",
    "today = str(datetime.now().date())"
   ]
  },
  {
   "cell_type": "code",
   "execution_count": 8,
   "id": "c2ac6ecf-545b-4fb2-b041-8ba9393d487b",
   "metadata": {},
   "outputs": [],
   "source": [
    "dt_index = pd.date_range(start=time_month, end = yesterday)\n",
    "\n",
    "date = pd.DataFrame(data=dt_index, columns=['날짜'])"
   ]
  },
  {
   "cell_type": "code",
   "execution_count": 9,
   "id": "62480c9d-63f0-4a4c-b211-199a15907ecd",
   "metadata": {},
   "outputs": [],
   "source": [
    "BASE_URL = 'https://api.naver.com'\n",
    "API_KEY = '0100000000aedd7e21ca248851339717a8c09555ed20e1e5cede79edfd948be51224d67f62'\n",
    "SECRET_KEY = 'AQAAAACu3X4hyiSIUTOXF6jAlVXt0G36rz8arbVtCcBmmpCK0Q=='\n",
    "CUSTOMER_ID = '1326555'"
   ]
  },
  {
   "cell_type": "code",
   "execution_count": 10,
   "id": "164b07a0-2cc0-4c51-85bc-e767759c4e1a",
   "metadata": {},
   "outputs": [],
   "source": [
    "rel = RelKwdStat(BASE_URL, API_KEY, SECRET_KEY, CUSTOMER_ID)\n",
    "\n",
    "def search_keyword(searchword):\n",
    "    kwdDataList = rel.get_rel_kwd_stat_list(siteId=None, biztpId=None, hintKeywords=searchword, event=None, month=None, showDetail='1')\n",
    "    kwd_result = (kwdDataList[0].relKeyword, #키워드\n",
    "                 kwdDataList[0].monthlyPcQcCnt, #월간 검색수 (PC)\n",
    "                 kwdDataList[0].monthlyMobileQcCnt, # 월간 검색수 (Mobile)\n",
    "                 kwdDataList[0].monthlyPcQcCnt+kwdDataList[0].monthlyMobileQcCnt) # 월간 total \n",
    "    return(kwd_result[3])\n",
    "\n",
    "client_id = \"VwYdRR6MqJZJLGEOGqYr\" \n",
    "client_secret = \"9XtlZIiC59\"\n",
    "\n",
    "dictionary_yester={}\n",
    "dictionary_now={}"
   ]
  },
  {
   "cell_type": "code",
   "execution_count": 38,
   "id": "b20832cb-360f-4a9c-b57b-a3d7cbea67a8",
   "metadata": {},
   "outputs": [],
   "source": [
    "# lis = ['검색하고자 하는 키워드 입력']\n",
    "lis = ['위워크']"
   ]
  },
  {
   "cell_type": "code",
   "execution_count": 39,
   "id": "603308ee-2aaa-4d5e-bd64-1fe85b7bfa96",
   "metadata": {},
   "outputs": [
    {
     "data": {
      "application/vnd.jupyter.widget-view+json": {
       "model_id": "f58c346c34cd44a1bd005cd60d98586a",
       "version_major": 2,
       "version_minor": 0
      },
      "text/plain": [
       "  0%|          | 0/1 [00:00<?, ?it/s]"
      ]
     },
     "metadata": {},
     "output_type": "display_data"
    }
   ],
   "source": [
    "error=[]\n",
    "for i in tqdm(lis):  \n",
    "    sleep(1)\n",
    "    try:\n",
    "        if type(search_keyword(i)) !=str : \n",
    "            searchword = i.replace(\" \",\"\")\n",
    "            a = search_keyword(searchword)\n",
    "\n",
    "\n",
    "            url = \"https://openapi.naver.com/v1/datalab/search\"\n",
    "            body = \"{\\\"startDate\\\":\\\"\"+time_month+\"\\\",\\\"endDate\\\":\\\"\"+today+\"\\\",\\\"timeUnit\\\":\\\"date\\\",\\\"keywordGroups\\\":[{\\\"groupName\\\":\\\"\"+i+\"\\\",\\\"keywords\\\":[\\\"\"+i+\"\\\"]}]}\";\n",
    "            requested = urllib.request.Request(url)\n",
    "            requested.add_header(\"X-Naver-Client-Id\", client_id)\n",
    "            requested.add_header(\"X-Naver-Client-Secret\", client_secret)\n",
    "            requested.add_header(\"Content-Type\", \"application/json\")\n",
    "            response = urllib.request.urlopen(requested, data=body.encode(\"utf-8\"))\n",
    "            rescode = response.getcode()\n",
    "\n",
    "            if(rescode==200):\n",
    "                response_body = response.read()\n",
    "                output_data = response_body.decode('utf-8')\n",
    "            else:\n",
    "                print('Error code:'+ rescode)\n",
    "                pass\n",
    "\n",
    "            result = json.loads(output_data)\n",
    "\n",
    "\n",
    "            date = [a['period'] for a in result['results'][0]['data']]\n",
    "\n",
    "\n",
    "            aa = pd.DataFrame({'date':date, \n",
    "                          i:[a['ratio'] for a in result['results'][0]['data']],\n",
    "                          })\n",
    "\n",
    "            # 일일 데이터 계산 \n",
    "\n",
    "\n",
    "            sleep(0.5)\n",
    "            total = aa[i].sum()\n",
    "\n",
    "\n",
    "            aa[i] = aa[i].apply(lambda x :((x / total)*float(a)))\n",
    "\n",
    "        else : \n",
    "            pass\n",
    "\n",
    "    except (TypeError, IndexError,KeyError,ValueError):\n",
    "        print(\" 타입 or 인덱스 에러,Value 에러:\",i)\n",
    "        error.append(i)\n",
    "        pass\n",
    "\n",
    "\n",
    "    except HTTPError:\n",
    "        print('http 에러:', i )\n",
    "        error.append(i)\n",
    "        pass\n",
    "\n",
    "        #여기부터 새로코딩함 \n",
    "    try: \n",
    "        if type(search_keyword(i)) !=str : \n",
    "            searchword = i.replace(\" \",\"\")\n",
    "            a = search_keyword(searchword)        \n",
    "\n",
    "            dt_index = pd.date_range(start=time_month, end= yesterday)\n",
    "            dt_list = dt_index.strftime(\"%Y-%m-%d\").tolist()\n",
    "\n",
    "            date = pd.DataFrame(data=dt_list, columns=['날짜'])\n",
    "\n",
    "            spred = pd.merge(date,aa,left_on='날짜',right_on='date',how='outer')\n",
    "            spred.drop(['date'],inplace=True, axis=1)\n",
    "\n",
    "            spred.replace(np.nan,0,inplace=True)\n",
    "\n",
    "\n",
    "            a=[] \n",
    "\n",
    "            for j in range(len(spred)) : \n",
    "                a.append(today)\n",
    "\n",
    "\n",
    "            spred['수집날짜'] = a\n",
    "\n",
    "            spred = spred[['날짜','수집날짜',i]]\n",
    "\n",
    "            if i in dictionary_yester:\n",
    "\n",
    "                pass\n",
    "\n",
    "            else : \n",
    "                dictionary_yester[i]=[]\n",
    "\n",
    "\n",
    "\n",
    "            dictionary_now[i]=spred\n",
    "\n",
    "        else:\n",
    "            pass\n",
    "\n",
    "    except (TypeError, IndexError,KeyError,ValueError):\n",
    "\n",
    "        pass\n",
    "\n",
    "    sleep(0.5)\n",
    "    try :\n",
    "        if type(search_keyword(i)) !=str : \n",
    "            searchword = i.replace(\" \",\"\")\n",
    "            a = search_keyword(searchword)        \n",
    "\n",
    "            if dictionary_yester[i]==[]:\n",
    "                dictionary_yester[i] = dictionary_now[i]\n",
    "               # for k in range(3):\n",
    "                #    sleep(1)\n",
    "                 #   gc2.append_row(dictionary_now[i].iloc[-1-k,:].values.tolist()+[i])\n",
    "\n",
    "\n",
    "            else : \n",
    "                pass \n",
    "        else:\n",
    "            pass\n",
    "\n",
    "\n",
    "    except (TypeError, IndexError,KeyError):\n",
    "          pass\n",
    "\n",
    "\n",
    "    except ValueError:\n",
    "\n",
    "\n",
    "            yester_df= dictionary_yester[i]\n",
    "            today_df = dictionary_now[i]\n",
    "\n",
    "\n",
    "            yester_df.set_index('날짜',inplace=True)\n",
    "\n",
    "            today_df.set_index('날짜',inplace=True)\n",
    "\n",
    "            yester_df.update(today_df)\n",
    "\n",
    "\n",
    "            tmpt = today_df.iloc[-1,:]\n",
    "\n",
    "            yester_df = yester_df.append(tmpt)\n",
    "\n",
    "            yester_df.reset_index(inplace=True)\n",
    "            today_df.reset_index(inplace=True)\n",
    "\n",
    "            dictionary_yester[i] = yester_df\n",
    "\n",
    "\n",
    "    except :\n",
    "        print('API 에러',i)\n",
    "        error.append(i)\n",
    "\n",
    "    sleep(3)"
   ]
  },
  {
   "cell_type": "code",
   "execution_count": 27,
   "id": "e3e616a3-f2a7-4d05-848e-875e0d43ae4b",
   "metadata": {},
   "outputs": [],
   "source": [
    "spark = dictionary_now['스파크플러스']"
   ]
  },
  {
   "cell_type": "code",
   "execution_count": 37,
   "id": "c719c93e-1e16-4cc5-bfb5-dfd54ae84c41",
   "metadata": {},
   "outputs": [],
   "source": [
    "spark_sum = spark['스파크플러스'].tail(7).sum()"
   ]
  },
  {
   "cell_type": "code",
   "execution_count": 41,
   "id": "60c697d8-e34f-47f1-b307-6c5c90418474",
   "metadata": {},
   "outputs": [],
   "source": [
    "we = dictionary_now['위워크']"
   ]
  },
  {
   "cell_type": "code",
   "execution_count": 42,
   "id": "b28e2a62-d40d-44da-a44b-41e24dbac045",
   "metadata": {},
   "outputs": [],
   "source": [
    "we_sum = we['위워크'].tail(7).sum()"
   ]
  },
  {
   "cell_type": "code",
   "execution_count": 6,
   "id": "fa7b1c3b-8099-4fed-9947-7c20f3526902",
   "metadata": {},
   "outputs": [],
   "source": [
    "!git add ."
   ]
  },
  {
   "cell_type": "code",
   "execution_count": 11,
   "id": "e5a3a252-ef9b-4b78-8c69-1f2a74b2ebc4",
   "metadata": {},
   "outputs": [
    {
     "name": "stdout",
     "output_type": "stream",
     "text": [
      "error: pathspec '네이버 일일검색량 계산해서 구글시트에 넣기' did not match any file(s) known to git\n"
     ]
    }
   ],
   "source": [
    "!git commit -m naver '네이버 일일검색량 계산해서 구글시트에 넣기'"
   ]
  },
  {
   "cell_type": "code",
   "execution_count": 5,
   "id": "be833452-3d4a-4f66-bf9f-dc64016f0b57",
   "metadata": {},
   "outputs": [
    {
     "name": "stdout",
     "output_type": "stream",
     "text": [
      "/Users/moo/Desktop/jupyter/git/.git/ 안의 기존 깃 저장소를 다시 초기화했습니다\n"
     ]
    }
   ],
   "source": [
    "!git init"
   ]
  },
  {
   "cell_type": "code",
   "execution_count": 8,
   "id": "0ed77e15-21b5-45cc-ab62-33733e064f4b",
   "metadata": {},
   "outputs": [
    {
     "name": "stdout",
     "output_type": "stream",
     "text": [
      "현재 브랜치 main\n",
      "커밋할 변경 사항:\n",
      "  (use \"git restore --staged <file>...\" to unstage)\n",
      "\t\u001b[32m수정함:        aaaa.ipynb\u001b[m\n",
      "\t\u001b[32m새 파일:       \"naver/.ipynb_checkpoints/\\353\\204\\244\\354\\235\\264\\353\\262\\204 \\354\\235\\274\\354\\235\\274\\352\\262\\200\\354\\203\\211\\353\\237\\211 \\352\\263\\204\\354\\202\\260\\352\\270\\260-checkpoint.ipynb\"\u001b[m\n",
      "\t\u001b[32m새 파일:       \"naver/\\353\\204\\244\\354\\235\\264\\353\\262\\204 \\354\\235\\274\\354\\235\\274\\352\\262\\200\\354\\203\\211\\353\\237\\211 \\352\\263\\204\\354\\202\\260\\352\\270\\260.ipynb\"\u001b[m\n",
      "\n"
     ]
    }
   ],
   "source": [
    "!git status"
   ]
  },
  {
   "cell_type": "code",
   "execution_count": 10,
   "id": "70f742d7-d03e-4a99-8cc1-e1ab55922ff1",
   "metadata": {},
   "outputs": [
    {
     "name": "stdout",
     "output_type": "stream",
     "text": [
      "오브젝트 나열하는 중: 9, 완료.\n",
      "오브젝트 개수 세는 중: 100% (9/9), 완료.\n",
      "Delta compression using up to 8 threads\n",
      "오브젝트 압축하는 중: 100% (7/7), 완료.\n",
      "오브젝트 쓰는 중: 100% (7/7), 7.12 KiB | 7.12 MiB/s, 완료.\n",
      "Total 7 (delta 1), reused 0 (delta 0), pack-reused 0\n",
      "remote: Resolving deltas: 100% (1/1), done.\u001b[K\n",
      "To https://github.com/pepetuna/portfolio.git\n",
      "   6db86f2..e7ead77  main -> main\n",
      "branch 'main' set up to track 'https://github.com/pepetuna/portfolio.git/main'.\n"
     ]
    }
   ],
   "source": [
    "!git push -u https://github.com/pepetuna/portfolio.git main"
   ]
  },
  {
   "cell_type": "code",
   "execution_count": null,
   "id": "5ce49927-2082-43e4-982b-ac2ecd0fc7cf",
   "metadata": {},
   "outputs": [],
   "source": []
  }
 ],
 "metadata": {
  "kernelspec": {
   "display_name": "Python 3 (ipykernel)",
   "language": "python",
   "name": "python3"
  },
  "language_info": {
   "codemirror_mode": {
    "name": "ipython",
    "version": 3
   },
   "file_extension": ".py",
   "mimetype": "text/x-python",
   "name": "python",
   "nbconvert_exporter": "python",
   "pygments_lexer": "ipython3",
   "version": "3.7.11"
  }
 },
 "nbformat": 4,
 "nbformat_minor": 5
}
