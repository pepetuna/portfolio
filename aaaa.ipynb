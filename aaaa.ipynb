{
 "cells": [
  {
   "cell_type": "code",
   "execution_count": 1,
   "id": "ec1887ac-15fb-41ba-9478-d145ec4b57fe",
   "metadata": {},
   "outputs": [
    {
     "name": "stdout",
     "output_type": "stream",
     "text": [
      "/Users/moo/Desktop/jupyter/git/.git/ 안의 빈 깃 저장소를 다시 초기화했습니다\n"
     ]
    }
   ],
   "source": [
    "!git init"
   ]
  },
  {
   "cell_type": "code",
   "execution_count": 3,
   "id": "272f2774-9376-4fab-b88e-63d4c9281332",
   "metadata": {},
   "outputs": [],
   "source": [
    "aaaaa = 1"
   ]
  },
  {
   "cell_type": "code",
   "execution_count": 4,
   "id": "27415e11-a926-4a44-8eff-90a7a99b5132",
   "metadata": {},
   "outputs": [],
   "source": [
    "!git add ."
   ]
  },
  {
   "cell_type": "code",
   "execution_count": 5,
   "id": "b7419c07-333b-4a6c-86e0-ca9267ebc6a0",
   "metadata": {},
   "outputs": [
    {
     "name": "stdout",
     "output_type": "stream",
     "text": [
      "[main (최상위-커밋) 6db86f2] aa입니다\n",
      " 2 files changed, 67 insertions(+)\n",
      " create mode 100644 .ipynb_checkpoints/aaaa-checkpoint.ipynb\n",
      " create mode 100644 aaaa.ipynb\n"
     ]
    }
   ],
   "source": [
    "!git commit -m 'aa입니다'"
   ]
  },
  {
   "cell_type": "code",
   "execution_count": 6,
   "id": "08cf98d7-1241-4fa4-8220-f54b88741913",
   "metadata": {},
   "outputs": [
    {
     "name": "stdout",
     "output_type": "stream",
     "text": [
      "\u001b[33mcommit 6db86f286766bc278d160092efb7966a97100f1b\u001b[m\u001b[33m (\u001b[m\u001b[1;36mHEAD -> \u001b[m\u001b[1;32mmain\u001b[m\u001b[33m)\u001b[m\n",
      "Author: moo <antjd323@gmail.com>\n",
      "Date:   Mon May 29 17:16:39 2023 +0900\n",
      "\n",
      "    aa입니다\n"
     ]
    }
   ],
   "source": [
    "!git log"
   ]
  },
  {
   "cell_type": "code",
   "execution_count": 7,
   "id": "9213f05b-339d-4dae-b52e-8ae68ab03360",
   "metadata": {},
   "outputs": [
    {
     "name": "stdout",
     "output_type": "stream",
     "text": [
      "오브젝트 나열하는 중: 5, 완료.\n",
      "오브젝트 개수 세는 중: 100% (5/5), 완료.\n",
      "Delta compression using up to 8 threads\n",
      "오브젝트 압축하는 중: 100% (4/4), 완료.\n",
      "오브젝트 쓰는 중: 100% (5/5), 929 bytes | 929.00 KiB/s, 완료.\n",
      "Total 5 (delta 0), reused 0 (delta 0), pack-reused 0\n",
      "To https://github.com/pepetuna/portfolio.git\n",
      " * [new branch]      main -> main\n",
      "branch 'main' set up to track 'https://github.com/pepetuna/portfolio.git/main'.\n"
     ]
    }
   ],
   "source": [
    "!git push -u https://github.com/pepetuna/portfolio.git main"
   ]
  },
  {
   "cell_type": "code",
   "execution_count": 8,
   "id": "e87d5eb9-f662-463c-bde4-630a85b20921",
   "metadata": {},
   "outputs": [
    {
     "name": "stdout",
     "output_type": "stream",
     "text": [
      "\u001b[1mdiff --git a/aaaa.ipynb b/aaaa.ipynb\u001b[m\n",
      "\u001b[1mindex 6d9e0a3..7d83d5a 100644\u001b[m\n",
      "\u001b[1m--- a/aaaa.ipynb\u001b[m\n",
      "\u001b[1m+++ b/aaaa.ipynb\u001b[m\n",
      "\u001b[36m@@ -30,11 +30,92 @@\u001b[m\n",
      "   },\u001b[m\n",
      "   {\u001b[m\n",
      "    \"cell_type\": \"code\",\u001b[m\n",
      "\u001b[31m-   \"execution_count\": null,\u001b[m\n",
      "\u001b[32m+\u001b[m\u001b[32m   \"execution_count\": 4,\u001b[m\n",
      "    \"id\": \"27415e11-a926-4a44-8eff-90a7a99b5132\",\u001b[m\n",
      "    \"metadata\": {},\u001b[m\n",
      "    \"outputs\": [],\u001b[m\n",
      "\u001b[31m-   \"source\": []\u001b[m\n",
      "\u001b[32m+\u001b[m\u001b[32m   \"source\": [\u001b[m\n",
      "\u001b[32m+\u001b[m\u001b[32m    \"!git add .\"\u001b[m\n",
      "\u001b[32m+\u001b[m\u001b[32m   ]\u001b[m\n",
      "\u001b[32m+\u001b[m\u001b[32m  },\u001b[m\n",
      "\u001b[32m+\u001b[m\u001b[32m  {\u001b[m\n",
      "\u001b[32m+\u001b[m\u001b[32m   \"cell_type\": \"code\",\u001b[m\n",
      "\u001b[32m+\u001b[m\u001b[32m   \"execution_count\": 5,\u001b[m\n",
      "\u001b[32m+\u001b[m\u001b[32m   \"id\": \"b7419c07-333b-4a6c-86e0-ca9267ebc6a0\",\u001b[m\n",
      "\u001b[32m+\u001b[m\u001b[32m   \"metadata\": {},\u001b[m\n",
      "\u001b[32m+\u001b[m\u001b[32m   \"outputs\": [\u001b[m\n",
      "\u001b[32m+\u001b[m\u001b[32m    {\u001b[m\n",
      "\u001b[32m+\u001b[m\u001b[32m     \"name\": \"stdout\",\u001b[m\n",
      "\u001b[32m+\u001b[m\u001b[32m     \"output_type\": \"stream\",\u001b[m\n",
      "\u001b[32m+\u001b[m\u001b[32m     \"text\": [\u001b[m\n",
      "\u001b[32m+\u001b[m\u001b[32m      \"[main (최상위-커밋) 6db86f2] aa입니다\\n\",\u001b[m\n",
      "\u001b[32m+\u001b[m\u001b[32m      \" 2 files changed, 67 insertions(+)\\n\",\u001b[m\n",
      "\u001b[32m+\u001b[m\u001b[32m      \" create mode 100644 .ipynb_checkpoints/aaaa-checkpoint.ipynb\\n\",\u001b[m\n",
      "\u001b[32m+\u001b[m\u001b[32m      \" create mode 100644 aaaa.ipynb\\n\"\u001b[m\n",
      "\u001b[32m+\u001b[m\u001b[32m     ]\u001b[m\n",
      "\u001b[32m+\u001b[m\u001b[32m    }\u001b[m\n",
      "\u001b[32m+\u001b[m\u001b[32m   ],\u001b[m\n",
      "\u001b[32m+\u001b[m\u001b[32m   \"source\": [\u001b[m\n",
      "\u001b[32m+\u001b[m\u001b[32m    \"!git commit -m 'aa입니다'\"\u001b[m\n",
      "\u001b[32m+\u001b[m\u001b[32m   ]\u001b[m\n",
      "\u001b[32m+\u001b[m\u001b[32m  },\u001b[m\n",
      "\u001b[32m+\u001b[m\u001b[32m  {\u001b[m\n",
      "\u001b[32m+\u001b[m\u001b[32m   \"cell_type\": \"code\",\u001b[m\n",
      "\u001b[32m+\u001b[m\u001b[32m   \"execution_count\": 6,\u001b[m\n",
      "\u001b[32m+\u001b[m\u001b[32m   \"id\": \"08cf98d7-1241-4fa4-8220-f54b88741913\",\u001b[m\n",
      "\u001b[32m+\u001b[m\u001b[32m   \"metadata\": {},\u001b[m\n",
      "\u001b[32m+\u001b[m\u001b[32m   \"outputs\": [\u001b[m\n",
      "\u001b[32m+\u001b[m\u001b[32m    {\u001b[m\n",
      "\u001b[32m+\u001b[m\u001b[32m     \"name\": \"stdout\",\u001b[m\n",
      "\u001b[32m+\u001b[m\u001b[32m     \"output_type\": \"stream\",\u001b[m\n",
      "\u001b[32m+\u001b[m\u001b[32m     \"text\": [\u001b[m\n",
      "\u001b[32m+\u001b[m\u001b[32m      \"\\u001b[33mcommit 6db86f286766bc278d160092efb7966a97100f1b\\u001b[m\\u001b[33m (\\u001b[m\\u001b[1;36mHEAD -> \\u001b[m\\u001b[1;32mmain\\u001b[m\\u001b[33m)\\u001b[m\\n\",\u001b[m\n",
      "\u001b[32m+\u001b[m\u001b[32m      \"Author: moo <antjd323@gmail.com>\\n\",\u001b[m\n",
      "\u001b[32m+\u001b[m\u001b[32m      \"Date:   Mon May 29 17:16:39 2023 +0900\\n\",\u001b[m\n",
      "\u001b[32m+\u001b[m\u001b[32m      \"\\n\",\u001b[m\n",
      "\u001b[32m+\u001b[m\u001b[32m      \"    aa입니다\\n\"\u001b[m\n",
      "\u001b[32m+\u001b[m\u001b[32m     ]\u001b[m\n",
      "\u001b[32m+\u001b[m\u001b[32m    }\u001b[m\n",
      "\u001b[32m+\u001b[m\u001b[32m   ],\u001b[m\n",
      "\u001b[32m+\u001b[m\u001b[32m   \"source\": [\u001b[m\n",
      "\u001b[32m+\u001b[m\u001b[32m    \"!git log\"\u001b[m\n",
      "\u001b[32m+\u001b[m\u001b[32m   ]\u001b[m\n",
      "\u001b[32m+\u001b[m\u001b[32m  },\u001b[m\n",
      "\u001b[32m+\u001b[m\u001b[32m  {\u001b[m\n",
      "\u001b[32m+\u001b[m\u001b[32m   \"cell_type\": \"code\",\u001b[m\n",
      "\u001b[32m+\u001b[m\u001b[32m   \"execution_count\": 7,\u001b[m\n",
      "\u001b[32m+\u001b[m\u001b[32m   \"id\": \"9213f05b-339d-4dae-b52e-8ae68ab03360\",\u001b[m\n",
      "\u001b[32m+\u001b[m\u001b[32m   \"metadata\": {},\u001b[m\n",
      "\u001b[32m+\u001b[m\u001b[32m   \"outputs\": [\u001b[m\n",
      "\u001b[32m+\u001b[m\u001b[32m    {\u001b[m\n",
      "\u001b[32m+\u001b[m\u001b[32m     \"name\": \"stdout\",\u001b[m\n",
      "\u001b[32m+\u001b[m\u001b[32m     \"output_type\": \"stream\",\u001b[m\n",
      "\u001b[32m+\u001b[m\u001b[32m     \"text\": [\u001b[m\n",
      "\u001b[32m+\u001b[m\u001b[32m      \"오브젝트 나열하는 중: 5, 완료.\\n\",\u001b[m\n",
      "\u001b[32m+\u001b[m\u001b[32m      \"오브젝트 개수 세는 중: 100% (5/5), 완료.\\n\",\u001b[m\n",
      "\u001b[32m+\u001b[m\u001b[32m      \"Delta compression using up to 8 threads\\n\",\u001b[m\n",
      "\u001b[32m+\u001b[m\u001b[32m      \"오브젝트 압축하는 중: 100% (4/4), 완료.\\n\",\u001b[m\n",
      "\u001b[32m+\u001b[m\u001b[32m      \"오브젝트 쓰는 중: 100% (5/5), 929 bytes | 929.00 KiB/s, 완료.\\n\",\u001b[m\n",
      "\u001b[32m+\u001b[m\u001b[32m      \"Total 5 (delta 0), reused 0 (delta 0), pack-reused 0\\n\",\u001b[m\n",
      "\u001b[32m+\u001b[m\u001b[32m      \"To https://github.com/pepetuna/portfolio.git\\n\",\u001b[m\n",
      "\u001b[32m+\u001b[m\u001b[32m      \" * [new branch]      main -> main\\n\",\u001b[m\n",
      "\u001b[32m+\u001b[m\u001b[32m      \"branch 'main' set up to track 'https://github.com/pepetuna/portfolio.git/main'.\\n\"\u001b[m\n",
      "\u001b[32m+\u001b[m\u001b[32m     ]\u001b[m\n",
      "\u001b[32m+\u001b[m\u001b[32m    }\u001b[m\n",
      "\u001b[32m+\u001b[m\u001b[32m   ],\u001b[m\n",
      "\u001b[32m+\u001b[m\u001b[32m   \"source\": [\u001b[m\n",
      "\u001b[32m+\u001b[m\u001b[32m    \"!git push -u https://github.com/pepetuna/portfolio.git main\"\u001b[m\n",
      "\u001b[32m+\u001b[m\u001b[32m   ]\u001b[m\n",
      "\u001b[32m+\u001b[m\u001b[32m  },\u001b[m\n",
      "\u001b[32m+\u001b[m\u001b[32m  {\u001b[m\n",
      "\u001b[32m+\u001b[m\u001b[32m   \"cell_type\": \"code\",\u001b[m\n",
      "\u001b[32m+\u001b[m\u001b[32m   \"execution_count\": null,\u001b[m\n",
      "\u001b[32m+\u001b[m\u001b[32m   \"id\": \"e87d5eb9-f662-463c-bde4-630a85b20921\",\u001b[m\n",
      "\u001b[32m+\u001b[m\u001b[32m   \"metadata\": {},\u001b[m\n",
      "\u001b[32m+\u001b[m\u001b[32m   \"outputs\": [],\u001b[m\n",
      "\u001b[32m+\u001b[m\u001b[32m   \"source\": [\u001b[m\n",
      "\u001b[32m+\u001b[m\u001b[32m    \"!git \"\u001b[m\n",
      "\u001b[32m+\u001b[m\u001b[32m   ]\u001b[m\n",
      "   }\u001b[m\n",
      "  ],\u001b[m\n",
      "  \"metadata\": {\u001b[m\n"
     ]
    }
   ],
   "source": [
    "!git diff"
   ]
  },
  {
   "cell_type": "code",
   "execution_count": null,
   "id": "9f286d44-cf6a-4ed5-babc-155fb6f1ff25",
   "metadata": {},
   "outputs": [],
   "source": []
  }
 ],
 "metadata": {
  "kernelspec": {
   "display_name": "Python 3 (ipykernel)",
   "language": "python",
   "name": "python3"
  },
  "language_info": {
   "codemirror_mode": {
    "name": "ipython",
    "version": 3
   },
   "file_extension": ".py",
   "mimetype": "text/x-python",
   "name": "python",
   "nbconvert_exporter": "python",
   "pygments_lexer": "ipython3",
   "version": "3.7.11"
  }
 },
 "nbformat": 4,
 "nbformat_minor": 5
}
